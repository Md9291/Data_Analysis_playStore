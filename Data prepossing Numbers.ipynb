{
 "cells": [
  {
   "cell_type": "code",
   "execution_count": 47,
   "id": "645b5845",
   "metadata": {},
   "outputs": [],
   "source": [
    "import pandas as pd\n",
    "import numpy as np\n",
    "import plotly.offline as pyo\n",
    "import plotly.graph_objs as go"
   ]
  },
  {
   "cell_type": "code",
   "execution_count": 45,
   "id": "4d34924d",
   "metadata": {},
   "outputs": [
    {
     "name": "stdout",
     "output_type": "stream",
     "text": [
      "Collecting plotly\n",
      "  Downloading plotly-5.8.2-py2.py3-none-any.whl (15.2 MB)\n",
      "Collecting tenacity>=6.2.0\n",
      "  Downloading tenacity-8.0.1-py3-none-any.whl (24 kB)\n",
      "Installing collected packages: tenacity, plotly\n",
      "Successfully installed plotly-5.8.2 tenacity-8.0.1\n"
     ]
    }
   ],
   "source": [
    "!pip install plotly"
   ]
  },
  {
   "cell_type": "code",
   "execution_count": 2,
   "id": "6d6508fe",
   "metadata": {},
   "outputs": [],
   "source": [
    "\n",
    "df = pd.read_csv('googleplaystore.csv')"
   ]
  },
  {
   "cell_type": "code",
   "execution_count": 3,
   "id": "9cfdade5",
   "metadata": {},
   "outputs": [],
   "source": [
    "\n",
    "df.drop(['Last Updated', 'Current Ver', 'Android Ver'], axis = 1, inplace = True)"
   ]
  },
  {
   "cell_type": "code",
   "execution_count": 4,
   "id": "ad3a28e2",
   "metadata": {},
   "outputs": [],
   "source": [
    "df.dropna(inplace = True)"
   ]
  },
  {
   "cell_type": "markdown",
   "id": "30ae3ecc",
   "metadata": {},
   "source": [
    "# In Range Functions"
   ]
  },
  {
   "cell_type": "code",
   "execution_count": 6,
   "id": "75df0c6e",
   "metadata": {},
   "outputs": [],
   "source": [
    "def inrange(low,uppr):\n",
    "\n",
    "    c = 0\n",
    "\n",
    "    for rating in df['Rating'].values:\n",
    "        if(rating >= low and rating <= uppr):  # 4.0 - 4.5\n",
    "            c += 1\n",
    "    print(\"Number of applications with rating between\", low, \"-\",uppr,\"is\",c,\".\")"
   ]
  },
  {
   "cell_type": "code",
   "execution_count": 7,
   "id": "b0879681",
   "metadata": {},
   "outputs": [
    {
     "name": "stdout",
     "output_type": "stream",
     "text": [
      "Number of applications with rating between 4.0 - 4.2 is 2228 .\n"
     ]
    }
   ],
   "source": [
    "inrange(low = 4.0, uppr = 4.2)"
   ]
  },
  {
   "cell_type": "markdown",
   "id": "cf4f17e1",
   "metadata": {},
   "source": [
    "# Ratings Analysis"
   ]
  },
  {
   "cell_type": "code",
   "execution_count": 8,
   "id": "e9c36e4e",
   "metadata": {},
   "outputs": [
    {
     "name": "stdout",
     "output_type": "stream",
     "text": [
      "4.191757420456978\n"
     ]
    }
   ],
   "source": [
    "subm = 0\n",
    "\n",
    "for i in df['Rating'].values:\n",
    "    subm += i\n",
    "    \n",
    "print(subm/len(df['Rating'].values))  "
   ]
  },
  {
   "cell_type": "markdown",
   "id": "ee2701b0",
   "metadata": {},
   "source": [
    "# Reviews Analysis"
   ]
  },
  {
   "cell_type": "code",
   "execution_count": 9,
   "id": "d872b1ee",
   "metadata": {},
   "outputs": [
    {
     "name": "stdout",
     "output_type": "stream",
     "text": [
      "514049.8365364083\n"
     ]
    }
   ],
   "source": [
    "subm = 0\n",
    "\n",
    "for i in df['Reviews'].values:\n",
    "    subm += int(i)\n",
    "    \n",
    "print(subm/len(df['Reviews'].values))  "
   ]
  },
  {
   "cell_type": "code",
   "execution_count": 10,
   "id": "a3b476cc",
   "metadata": {},
   "outputs": [],
   "source": [
    "m = 0\n",
    "k = 0\n",
    "\n",
    "\n",
    "for size in df['Size'].values:\n",
    "    \n",
    "    if (size != 'Varies with device'):\n",
    "\n",
    "        if (size[-1:] == 'M'):\n",
    "            m += float(size[:-1])\n",
    "            \n",
    "        if (size[-1:] == 'k'):\n",
    "            k += float(size[:-1])"
   ]
  },
  {
   "cell_type": "code",
   "execution_count": 11,
   "id": "4d21c511",
   "metadata": {},
   "outputs": [
    {
     "data": {
      "text/plain": [
       "177439.3434999995"
      ]
     },
     "execution_count": 11,
     "metadata": {},
     "output_type": "execute_result"
    }
   ],
   "source": [
    "m + k/1000"
   ]
  },
  {
   "cell_type": "code",
   "execution_count": 12,
   "id": "61d887a3",
   "metadata": {},
   "outputs": [
    {
     "data": {
      "text/plain": [
       "array(['19M', '14M', '8.7M', '25M', '2.8M', '5.6M', '29M', '33M', '3.1M',\n",
       "       '28M', '12M', '20M', '21M', '37M', '2.7M', '5.5M', '17M', '39M',\n",
       "       '31M', '4.2M', '23M', '6.0M', '6.1M', '4.6M', '9.2M', '5.2M',\n",
       "       '11M', '24M', 'Varies with device', '9.4M', '15M', '10M', '1.2M',\n",
       "       '26M', '8.0M', '7.9M', '56M', '57M', '35M', '54M', '201k', '3.6M',\n",
       "       '5.7M', '8.6M', '2.4M', '27M', '2.5M', '7.0M', '16M', '3.4M',\n",
       "       '8.9M', '3.9M', '2.9M', '38M', '32M', '5.4M', '18M', '1.1M',\n",
       "       '2.2M', '4.5M', '9.8M', '52M', '9.0M', '6.7M', '30M', '2.6M',\n",
       "       '7.1M', '22M', '6.4M', '3.2M', '8.2M', '4.9M', '9.5M', '5.0M',\n",
       "       '5.9M', '13M', '73M', '6.8M', '3.5M', '4.0M', '2.3M', '2.1M',\n",
       "       '42M', '9.1M', '55M', '23k', '7.3M', '6.5M', '1.5M', '7.5M', '51M',\n",
       "       '41M', '48M', '8.5M', '46M', '8.3M', '4.3M', '4.7M', '3.3M', '40M',\n",
       "       '7.8M', '8.8M', '6.6M', '5.1M', '61M', '66M', '79k', '8.4M',\n",
       "       '3.7M', '118k', '44M', '695k', '1.6M', '6.2M', '53M', '1.4M',\n",
       "       '3.0M', '7.2M', '5.8M', '3.8M', '9.6M', '45M', '63M', '49M', '77M',\n",
       "       '4.4M', '70M', '9.3M', '8.1M', '36M', '6.9M', '7.4M', '84M', '97M',\n",
       "       '2.0M', '1.9M', '1.8M', '5.3M', '47M', '556k', '526k', '76M',\n",
       "       '7.6M', '59M', '9.7M', '78M', '72M', '43M', '7.7M', '6.3M', '334k',\n",
       "       '93M', '65M', '79M', '100M', '58M', '50M', '68M', '64M', '34M',\n",
       "       '67M', '60M', '94M', '9.9M', '232k', '99M', '624k', '95M', '8.5k',\n",
       "       '41k', '292k', '11k', '80M', '1.7M', '10.0M', '74M', '62M', '69M',\n",
       "       '75M', '98M', '85M', '82M', '96M', '87M', '71M', '86M', '91M',\n",
       "       '81M', '92M', '83M', '88M', '704k', '862k', '899k', '378k', '4.8M',\n",
       "       '266k', '375k', '1.3M', '975k', '980k', '4.1M', '89M', '696k',\n",
       "       '544k', '525k', '920k', '779k', '853k', '720k', '713k', '772k',\n",
       "       '318k', '58k', '241k', '196k', '857k', '51k', '953k', '865k',\n",
       "       '251k', '930k', '540k', '313k', '746k', '203k', '26k', '314k',\n",
       "       '239k', '371k', '220k', '730k', '756k', '91k', '293k', '17k',\n",
       "       '74k', '14k', '317k', '78k', '924k', '818k', '81k', '939k', '169k',\n",
       "       '45k', '965k', '90M', '545k', '61k', '283k', '655k', '714k', '93k',\n",
       "       '872k', '121k', '322k', '976k', '206k', '954k', '444k', '717k',\n",
       "       '210k', '609k', '308k', '306k', '175k', '350k', '383k', '454k',\n",
       "       '1.0M', '70k', '812k', '442k', '842k', '417k', '412k', '459k',\n",
       "       '478k', '335k', '782k', '721k', '430k', '429k', '192k', '460k',\n",
       "       '728k', '496k', '816k', '414k', '506k', '887k', '613k', '778k',\n",
       "       '683k', '592k', '186k', '840k', '647k', '373k', '437k', '598k',\n",
       "       '716k', '585k', '982k', '219k', '55k', '323k', '691k', '511k',\n",
       "       '951k', '963k', '25k', '554k', '351k', '27k', '82k', '208k',\n",
       "       '551k', '29k', '103k', '116k', '153k', '209k', '499k', '173k',\n",
       "       '597k', '809k', '122k', '411k', '400k', '801k', '787k', '50k',\n",
       "       '643k', '986k', '516k', '837k', '780k', '20k', '498k', '600k',\n",
       "       '656k', '221k', '228k', '176k', '34k', '259k', '164k', '458k',\n",
       "       '629k', '28k', '288k', '775k', '785k', '636k', '916k', '994k',\n",
       "       '309k', '485k', '914k', '903k', '608k', '500k', '54k', '562k',\n",
       "       '847k', '948k', '811k', '270k', '48k', '523k', '784k', '280k',\n",
       "       '24k', '892k', '154k', '18k', '33k', '860k', '364k', '387k',\n",
       "       '626k', '161k', '879k', '39k', '170k', '141k', '160k', '144k',\n",
       "       '143k', '190k', '376k', '193k', '473k', '246k', '73k', '253k',\n",
       "       '957k', '420k', '72k', '404k', '470k', '226k', '240k', '89k',\n",
       "       '234k', '257k', '861k', '467k', '676k', '552k', '582k', '619k'],\n",
       "      dtype=object)"
      ]
     },
     "execution_count": 12,
     "metadata": {},
     "output_type": "execute_result"
    }
   ],
   "source": [
    "df['Size'].unique()"
   ]
  },
  {
   "cell_type": "markdown",
   "id": "9a06cb75",
   "metadata": {},
   "source": [
    "# Category"
   ]
  },
  {
   "cell_type": "code",
   "execution_count": 13,
   "id": "23411678",
   "metadata": {},
   "outputs": [],
   "source": [
    "unique_categories = df['Category'].unique()"
   ]
  },
  {
   "cell_type": "code",
   "execution_count": 14,
   "id": "a9e109d6",
   "metadata": {},
   "outputs": [
    {
     "data": {
      "text/plain": [
       "33"
      ]
     },
     "execution_count": 14,
     "metadata": {},
     "output_type": "execute_result"
    }
   ],
   "source": [
    "len(unique_categories)"
   ]
  },
  {
   "cell_type": "code",
   "execution_count": 15,
   "id": "909d6051",
   "metadata": {},
   "outputs": [],
   "source": [
    "def categories(name):\n",
    "    \n",
    "    c = 0\n",
    "\n",
    "    for i in df['Category'].values:\n",
    "        if( i == name):\n",
    "            c += 1\n",
    "\n",
    "    print(c)"
   ]
  },
  {
   "cell_type": "code",
   "execution_count": 16,
   "id": "d7de45d2",
   "metadata": {},
   "outputs": [
    {
     "name": "stdout",
     "output_type": "stream",
     "text": [
      "155\n"
     ]
    }
   ],
   "source": [
    "categories(name = 'EDUCATION')"
   ]
  },
  {
   "cell_type": "code",
   "execution_count": 24,
   "id": "12f81027",
   "metadata": {},
   "outputs": [
    {
     "name": "stdout",
     "output_type": "stream",
     "text": [
      "62\n",
      "73\n",
      "42\n",
      "178\n",
      "303\n",
      "58\n",
      "328\n",
      "195\n",
      "155\n",
      "149\n",
      "45\n",
      "323\n",
      "109\n",
      "297\n",
      "76\n",
      "65\n",
      "314\n",
      "1097\n",
      "1747\n",
      "350\n",
      "259\n",
      "238\n",
      "317\n",
      "319\n",
      "226\n",
      "734\n",
      "314\n",
      "351\n",
      "50\n",
      "75\n",
      "160\n",
      "233\n",
      "124\n"
     ]
    }
   ],
   "source": [
    "dct = {}\n",
    "\n",
    "for i in df['Category'].unique():\n",
    "    \n",
    "    var = categories(i)\n",
    "    dct[i] = var"
   ]
  },
  {
   "cell_type": "code",
   "execution_count": 27,
   "id": "8dd231c4",
   "metadata": {},
   "outputs": [],
   "source": [
    "dct['FAMILY']"
   ]
  },
  {
   "cell_type": "code",
   "execution_count": 49,
   "id": "87512fe8",
   "metadata": {},
   "outputs": [],
   "source": [
    "def category(name):\n",
    "    \n",
    "    c = 0\n",
    "    \n",
    "    for i in df['Content Rating'].values:\n",
    "        \n",
    "        if (i == name):\n",
    "            c += 1\n",
    "            \n",
    "    return c"
   ]
  },
  {
   "cell_type": "code",
   "execution_count": 50,
   "id": "f42d080c",
   "metadata": {},
   "outputs": [],
   "source": [
    "dct = {}\n",
    "\n",
    "for i in df['Content Rating'].unique():\n",
    "    dct[i] = category(i)"
   ]
  },
  {
   "cell_type": "markdown",
   "id": "47a34d43",
   "metadata": {},
   "source": [
    "# Price"
   ]
  },
  {
   "cell_type": "code",
   "execution_count": 17,
   "id": "d0880c43",
   "metadata": {},
   "outputs": [],
   "source": [
    "price = []\n",
    "\n",
    "for i in df['Price'].values:\n",
    "    if ('0' == i):\n",
    "        price.append(0)\n",
    "    else:\n",
    "        price.append(int(float(i[1:]) * 73.5))"
   ]
  },
  {
   "cell_type": "code",
   "execution_count": 18,
   "id": "8a882259",
   "metadata": {},
   "outputs": [
    {
     "data": {
      "text/plain": [
       "list"
      ]
     },
     "execution_count": 18,
     "metadata": {},
     "output_type": "execute_result"
    }
   ],
   "source": [
    "type(price)"
   ]
  },
  {
   "cell_type": "code",
   "execution_count": 19,
   "id": "e0f89a0e",
   "metadata": {},
   "outputs": [
    {
     "data": {
      "text/plain": [
       "array(['0', '$4.99', '$3.99', '$6.99', '$7.99', '$5.99', '$2.99', '$3.49',\n",
       "       '$1.99', '$9.99', '$7.49', '$0.99', '$9.00', '$5.49', '$10.00',\n",
       "       '$24.99', '$11.99', '$79.99', '$16.99', '$14.99', '$29.99',\n",
       "       '$12.99', '$2.49', '$10.99', '$1.50', '$19.99', '$15.99', '$33.99',\n",
       "       '$39.99', '$3.95', '$4.49', '$1.70', '$8.99', '$1.49', '$3.88',\n",
       "       '$399.99', '$17.99', '$400.00', '$3.02', '$1.76', '$4.84', '$4.77',\n",
       "       '$1.61', '$2.50', '$1.59', '$6.49', '$1.29', '$299.99', '$379.99',\n",
       "       '$37.99', '$18.99', '$389.99', '$8.49', '$1.75', '$14.00', '$2.00',\n",
       "       '$3.08', '$2.59', '$19.40', '$3.90', '$4.59', '$15.46', '$3.04',\n",
       "       '$13.99', '$4.29', '$3.28', '$4.60', '$1.00', '$2.95', '$2.90',\n",
       "       '$1.97', '$2.56', '$1.20'], dtype=object)"
      ]
     },
     "execution_count": 19,
     "metadata": {},
     "output_type": "execute_result"
    }
   ],
   "source": [
    "df['Price'].unique()"
   ]
  },
  {
   "cell_type": "code",
   "execution_count": 28,
   "id": "255d3de1",
   "metadata": {},
   "outputs": [],
   "source": [
    "def price(name):\n",
    "    \n",
    "    c = 0\n",
    "\n",
    "    for i in df['Price'].values:\n",
    "        if( i == name):\n",
    "            c += 1\n",
    "\n",
    "    return c"
   ]
  },
  {
   "cell_type": "code",
   "execution_count": 29,
   "id": "80d617fc",
   "metadata": {},
   "outputs": [],
   "source": [
    "dct = {}\n",
    "\n",
    "for i in df['Price'].unique():\n",
    "    var = price(i)\n",
    "    dct[i] = var"
   ]
  },
  {
   "cell_type": "code",
   "execution_count": 30,
   "id": "1e2915f0",
   "metadata": {},
   "outputs": [
    {
     "data": {
      "text/plain": [
       "8719"
      ]
     },
     "execution_count": 30,
     "metadata": {},
     "output_type": "execute_result"
    }
   ],
   "source": [
    "dct['0']"
   ]
  },
  {
   "cell_type": "markdown",
   "id": "3475c9fa",
   "metadata": {},
   "source": [
    "# Content Rating"
   ]
  },
  {
   "cell_type": "code",
   "execution_count": 20,
   "id": "9a3069ac",
   "metadata": {},
   "outputs": [
    {
     "data": {
      "text/plain": [
       "array(['Everyone', 'Teen', 'Everyone 10+', 'Mature 17+',\n",
       "       'Adults only 18+', 'Unrated'], dtype=object)"
      ]
     },
     "execution_count": 20,
     "metadata": {},
     "output_type": "execute_result"
    }
   ],
   "source": [
    "df['Content Rating'].unique()"
   ]
  },
  {
   "cell_type": "code",
   "execution_count": 21,
   "id": "b881454b",
   "metadata": {},
   "outputs": [],
   "source": [
    "def content_rating(name):\n",
    "    \n",
    "    c = 0\n",
    "\n",
    "    for i in df['Content Rating'].values:\n",
    "        if( i == name):\n",
    "            c += 1\n",
    "\n",
    "    print(c)"
   ]
  },
  {
   "cell_type": "code",
   "execution_count": 22,
   "id": "ea0a3ade",
   "metadata": {},
   "outputs": [
    {
     "name": "stdout",
     "output_type": "stream",
     "text": [
      "7420\n"
     ]
    }
   ],
   "source": [
    "\n",
    "content_rating('Everyone')"
   ]
  },
  {
   "cell_type": "code",
   "execution_count": 23,
   "id": "7a06b3a7",
   "metadata": {},
   "outputs": [
    {
     "name": "stdout",
     "output_type": "stream",
     "text": [
      "1084\n"
     ]
    }
   ],
   "source": [
    "content_rating('Teen')"
   ]
  },
  {
   "cell_type": "code",
   "execution_count": 31,
   "id": "75c9ba73",
   "metadata": {},
   "outputs": [
    {
     "name": "stdout",
     "output_type": "stream",
     "text": [
      "7420\n",
      "1084\n",
      "397\n",
      "461\n",
      "3\n",
      "1\n"
     ]
    }
   ],
   "source": [
    "dct = {}\n",
    "\n",
    "for i in df['Content Rating'].unique():\n",
    "    var = content_rating(i)\n",
    "    \n",
    "    dct[i] = var"
   ]
  },
  {
   "cell_type": "markdown",
   "id": "a0084d35",
   "metadata": {},
   "source": [
    "# Genres"
   ]
  },
  {
   "cell_type": "code",
   "execution_count": 32,
   "id": "619eb598",
   "metadata": {},
   "outputs": [],
   "source": [
    "def genres(name):\n",
    "    \n",
    "    c = 0\n",
    "\n",
    "    for i in df['Genres'].values:\n",
    "        if( i == name):\n",
    "            c += 1\n",
    "\n",
    "    return c"
   ]
  },
  {
   "cell_type": "code",
   "execution_count": 33,
   "id": "2245bb22",
   "metadata": {},
   "outputs": [],
   "source": [
    "dct = {}\n",
    "\n",
    "for i in df['Genres'].unique():\n",
    "    var = genres(i)\n",
    "    dct[i] = var"
   ]
  },
  {
   "cell_type": "code",
   "execution_count": 34,
   "id": "964fae33",
   "metadata": {},
   "outputs": [
    {
     "data": {
      "text/plain": [
       "328"
      ]
     },
     "execution_count": 34,
     "metadata": {},
     "output_type": "execute_result"
    }
   ],
   "source": [
    "dct['Communication']"
   ]
  },
  {
   "cell_type": "code",
   "execution_count": 35,
   "id": "0857c4fa",
   "metadata": {},
   "outputs": [
    {
     "data": {
      "text/plain": [
       "{'Art & Design': 56,\n",
       " 'Art & Design;Pretend Play': 2,\n",
       " 'Art & Design;Creativity': 7,\n",
       " 'Auto & Vehicles': 73,\n",
       " 'Beauty': 42,\n",
       " 'Books & Reference': 178,\n",
       " 'Business': 303,\n",
       " 'Comics': 57,\n",
       " 'Comics;Creativity': 1,\n",
       " 'Communication': 328,\n",
       " 'Dating': 195,\n",
       " 'Education;Education': 50,\n",
       " 'Education': 468,\n",
       " 'Education;Creativity': 7,\n",
       " 'Education;Music & Video': 5,\n",
       " 'Education;Action & Adventure': 6,\n",
       " 'Education;Pretend Play': 23,\n",
       " 'Education;Brain Games': 4,\n",
       " 'Entertainment': 533,\n",
       " 'Entertainment;Music & Video': 27,\n",
       " 'Entertainment;Brain Games': 8,\n",
       " 'Entertainment;Creativity': 3,\n",
       " 'Events': 45,\n",
       " 'Finance': 323,\n",
       " 'Food & Drink': 109,\n",
       " 'Health & Fitness': 297,\n",
       " 'House & Home': 76,\n",
       " 'Libraries & Demo': 65,\n",
       " 'Lifestyle': 313,\n",
       " 'Lifestyle;Pretend Play': 1,\n",
       " 'Adventure;Action & Adventure': 13,\n",
       " 'Arcade': 207,\n",
       " 'Casual': 185,\n",
       " 'Card': 45,\n",
       " 'Casual;Pretend Play': 31,\n",
       " 'Action': 358,\n",
       " 'Strategy': 103,\n",
       " 'Puzzle': 121,\n",
       " 'Sports': 333,\n",
       " 'Music': 21,\n",
       " 'Word': 28,\n",
       " 'Racing': 93,\n",
       " 'Casual;Creativity': 7,\n",
       " 'Casual;Action & Adventure': 21,\n",
       " 'Simulation': 194,\n",
       " 'Adventure': 73,\n",
       " 'Board': 41,\n",
       " 'Trivia': 28,\n",
       " 'Role Playing': 106,\n",
       " 'Simulation;Education': 3,\n",
       " 'Action;Action & Adventure': 17,\n",
       " 'Casual;Brain Games': 13,\n",
       " 'Simulation;Action & Adventure': 11,\n",
       " 'Educational;Creativity': 5,\n",
       " 'Puzzle;Brain Games': 19,\n",
       " 'Educational;Education': 38,\n",
       " 'Card;Brain Games': 1,\n",
       " 'Educational;Brain Games': 6,\n",
       " 'Educational;Pretend Play': 18,\n",
       " 'Entertainment;Education': 1,\n",
       " 'Casual;Education': 3,\n",
       " 'Music;Music & Video': 3,\n",
       " 'Racing;Action & Adventure': 20,\n",
       " 'Arcade;Pretend Play': 1,\n",
       " 'Role Playing;Action & Adventure': 7,\n",
       " 'Simulation;Pretend Play': 4,\n",
       " 'Puzzle;Creativity': 2,\n",
       " 'Sports;Action & Adventure': 4,\n",
       " 'Educational;Action & Adventure': 4,\n",
       " 'Arcade;Action & Adventure': 15,\n",
       " 'Entertainment;Action & Adventure': 3,\n",
       " 'Puzzle;Action & Adventure': 5,\n",
       " 'Strategy;Action & Adventure': 2,\n",
       " 'Music & Audio;Music & Video': 1,\n",
       " 'Health & Fitness;Education': 1,\n",
       " 'Adventure;Education': 2,\n",
       " 'Board;Brain Games': 15,\n",
       " 'Board;Action & Adventure': 3,\n",
       " 'Board;Pretend Play': 1,\n",
       " 'Casual;Music & Video': 2,\n",
       " 'Role Playing;Pretend Play': 5,\n",
       " 'Entertainment;Pretend Play': 2,\n",
       " 'Video Players & Editors;Creativity': 2,\n",
       " 'Card;Action & Adventure': 2,\n",
       " 'Medical': 350,\n",
       " 'Social': 259,\n",
       " 'Shopping': 238,\n",
       " 'Photography': 317,\n",
       " 'Travel & Local': 225,\n",
       " 'Travel & Local;Action & Adventure': 1,\n",
       " 'Tools': 733,\n",
       " 'Tools;Education': 1,\n",
       " 'Personalization': 314,\n",
       " 'Productivity': 351,\n",
       " 'Parenting': 40,\n",
       " 'Parenting;Music & Video': 6,\n",
       " 'Parenting;Brain Games': 1,\n",
       " 'Parenting;Education': 3,\n",
       " 'Weather': 75,\n",
       " 'Video Players & Editors': 158,\n",
       " 'Video Players & Editors;Music & Video': 3,\n",
       " 'News & Magazines': 233,\n",
       " 'Maps & Navigation': 124,\n",
       " 'Health & Fitness;Action & Adventure': 1,\n",
       " 'Educational': 32,\n",
       " 'Casino': 37,\n",
       " 'Adventure;Brain Games': 1,\n",
       " 'Lifestyle;Education': 1,\n",
       " 'Books & Reference;Education': 2,\n",
       " 'Puzzle;Education': 1,\n",
       " 'Role Playing;Brain Games': 1,\n",
       " 'Strategy;Education': 1,\n",
       " 'Racing;Pretend Play': 1,\n",
       " 'Communication;Creativity': 1,\n",
       " 'Strategy;Creativity': 1}"
      ]
     },
     "execution_count": 35,
     "metadata": {},
     "output_type": "execute_result"
    }
   ],
   "source": [
    "dct"
   ]
  },
  {
   "cell_type": "markdown",
   "id": "c920c8c6",
   "metadata": {},
   "source": [
    "# Advance Analysis"
   ]
  },
  {
   "cell_type": "code",
   "execution_count": 36,
   "id": "1e1ee517",
   "metadata": {},
   "outputs": [],
   "source": [
    "data = df.values"
   ]
  },
  {
   "cell_type": "code",
   "execution_count": 38,
   "id": "a0d91478",
   "metadata": {},
   "outputs": [
    {
     "name": "stdout",
     "output_type": "stream",
     "text": [
      "H*nest Meditation :  $1.99\n",
      "['H*nest Meditation' 'LIFESTYLE' 4.9 '145' '48M' '5,000+' 'Paid' '$1.99'\n",
      " 'Mature 17+' 'Lifestyle']\n",
      "Lunar Calendar :  $4.99\n",
      "['Lunar Calendar' 'LIFESTYLE' 4.5 '484' 'Varies with device' '1,000+'\n",
      " 'Paid' '$4.99' 'Mature 17+' 'Lifestyle']\n",
      "CA Speakers :  $0.99\n",
      "['CA Speakers' 'LIFESTYLE' 5.0 '12' '1.2M' '100+' 'Paid' '$0.99' 'Teen'\n",
      " 'Lifestyle']\n",
      "3\n"
     ]
    }
   ],
   "source": [
    "c = 0\n",
    "\n",
    "for i in data:\n",
    "    if (i[1] == 'LIFESTYLE' and i[6] == 'Paid' and (i[8] == 'Mature 17+' or i[8] == 'Teen')):\n",
    "        c += 1\n",
    "        print(i[0], \": \",i[7])\n",
    "        print(i)\n",
    "    \n",
    "print(c)"
   ]
  },
  {
   "cell_type": "code",
   "execution_count": 39,
   "id": "c6526677",
   "metadata": {},
   "outputs": [
    {
     "data": {
      "text/plain": [
       "array(['Everyone', 'Teen', 'Everyone 10+', 'Mature 17+',\n",
       "       'Adults only 18+', 'Unrated'], dtype=object)"
      ]
     },
     "execution_count": 39,
     "metadata": {},
     "output_type": "execute_result"
    }
   ],
   "source": [
    "df['Content Rating'].unique()"
   ]
  },
  {
   "cell_type": "code",
   "execution_count": 40,
   "id": "441964ac",
   "metadata": {},
   "outputs": [
    {
     "data": {
      "text/plain": [
       "(10, 10)"
      ]
     },
     "execution_count": 40,
     "metadata": {},
     "output_type": "execute_result"
    }
   ],
   "source": [
    "data[ : 10, : ].shape"
   ]
  },
  {
   "cell_type": "code",
   "execution_count": 41,
   "id": "c5ffe30c",
   "metadata": {},
   "outputs": [
    {
     "data": {
      "text/plain": [
       "(5, 10)"
      ]
     },
     "execution_count": 41,
     "metadata": {},
     "output_type": "execute_result"
    }
   ],
   "source": [
    "data[ : 5, : ].shape"
   ]
  },
  {
   "cell_type": "code",
   "execution_count": 42,
   "id": "04bb56f7",
   "metadata": {},
   "outputs": [
    {
     "data": {
      "text/plain": [
       "array([['ART_AND_DESIGN'],\n",
       "       ['ART_AND_DESIGN'],\n",
       "       ['ART_AND_DESIGN'],\n",
       "       ...,\n",
       "       ['FAMILY'],\n",
       "       ['BOOKS_AND_REFERENCE'],\n",
       "       ['LIFESTYLE']], dtype=object)"
      ]
     },
     "execution_count": 42,
     "metadata": {},
     "output_type": "execute_result"
    }
   ],
   "source": [
    "data[ : , 1:2 ]"
   ]
  },
  {
   "cell_type": "code",
   "execution_count": 43,
   "id": "5067a00b",
   "metadata": {},
   "outputs": [
    {
     "data": {
      "text/plain": [
       "array([['Free'],\n",
       "       ['Free'],\n",
       "       ['Free'],\n",
       "       ...,\n",
       "       ['Free'],\n",
       "       ['Free'],\n",
       "       ['Free']], dtype=object)"
      ]
     },
     "execution_count": 43,
     "metadata": {},
     "output_type": "execute_result"
    }
   ],
   "source": [
    "data[ : , 6:7 ]"
   ]
  },
  {
   "cell_type": "code",
   "execution_count": null,
   "id": "5d8c0c6e",
   "metadata": {},
   "outputs": [],
   "source": []
  }
 ],
 "metadata": {
  "kernelspec": {
   "display_name": "Python 3",
   "language": "python",
   "name": "python3"
  },
  "language_info": {
   "codemirror_mode": {
    "name": "ipython",
    "version": 3
   },
   "file_extension": ".py",
   "mimetype": "text/x-python",
   "name": "python",
   "nbconvert_exporter": "python",
   "pygments_lexer": "ipython3",
   "version": "3.8.8"
  }
 },
 "nbformat": 4,
 "nbformat_minor": 5
}
